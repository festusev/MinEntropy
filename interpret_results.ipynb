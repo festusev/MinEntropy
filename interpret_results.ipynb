{
 "cells": [
  {
   "cell_type": "code",
   "execution_count": 1,
   "id": "0b20649e-3b9e-4d4e-a943-1d282e9ba254",
   "metadata": {},
   "outputs": [],
   "source": [
    "import numpy as np\n",
    "import matplotlib.pyplot as plt\n",
    "import matplotlib.patches as mpatches\n",
    "from matplotlib import animation\n",
    "import torch\n",
    "import json\n",
    "import skimage.io as skio\n",
    "from IPython.display import Video\n",
    "import os\n",
    "import re\n",
    "from IPython.display import HTML"
   ]
  },
  {
   "cell_type": "code",
   "execution_count": 2,
   "id": "85527085-36a7-4954-af13-fb45674ca9cf",
   "metadata": {},
   "outputs": [],
   "source": [
    "# Overcooked observations, in order\n",
    "OBS = ['player_0_loc', 'player_1_loc', 'player_0_orientation_0', 'player_0_orientation_1', 'player_0_orientation_2', 'player_0_orientation_3', 'player_1_orientation_0', 'player_1_orientation_1', 'player_1_orientation_2', 'player_1_orientation_3', 'pot_loc', 'counter_loc', 'onion_disp_loc', 'tomato_disp_loc', 'dish_disp_loc', 'serve_loc', 'onions_in_pot', 'tomatoes_in_pot', 'onions_in_soup', 'tomatoes_in_soup', 'soup_cook_time_remaining', 'soup_done', 'dishes', 'onions', 'tomatoes', 'urgency']\n",
    "ONEHOT_OBS_DIMS = [1]*16 + [3]*4 + [20] + [1]*5 # At each index, the dimensionality of the corresponding one-hot encoded observation \n",
    "assert len(OBS) == 26"
   ]
  },
  {
   "cell_type": "code",
   "execution_count": 712,
   "id": "9fcbeb76-1043-4e8c-b58c-c6edbcada106",
   "metadata": {},
   "outputs": [],
   "source": [
    "# logdir = \"data/logs/cross_play/SMIRL_PPO/coordination_ring_nook_adversarial/2023-10-19_10-23-57/\"\n",
    "# logdir = \"data/logs/cross_play/PPO_SMIRL/coordination_ring_nook_adversarial/2023-10-18_19-08-57/\"\n",
    "# logdir = \"data/logs/cross_play/SMIRL_PPO/coordination_ring_nook_adversarial/2023-11-08_22-37-52/\"\n",
    "# logdir = \"data/logs/cross_play/PPO_SMIRL/coordination_ring_noblock/2023-11-08_21-56-51/\"\n",
    "# logdir = \"data/logs/cross_play/SMIRL_PPO/coordination_ring_nook_adversarial/2023-11-08_22-37-52/\"\n",
    "# logdir = \"data/logs/cross_play/PPO_SMIRL/coordination_ring/2023-11-08_22-39-14/\"\n",
    "\n",
    "# After fix\n",
    "# logdir = \"data/logs/cross_play/PPO_SMIRL/coordination_ring_nook_adversarial/2023-11-12_10-25-34/\"\n",
    "# logdir = \"data/logs/cross_play/PPO_SMIRL/coordination_ring_noblock/2023-11-12_10-39-01/\"\n",
    "# logdir = \"data/logs/cross_play/SMIRL_E_PPO/coordination_ring_nook_adversarial/2023-11-12_10-43-18/\"\n",
    "# logdir = \"data/logs/cross_play/SMIRL_PPO/coordination_ring_nook_adversarial/2023-11-12_20-56-18/\"\n",
    "# logdir = \"data/logs/cross_play/SMIRL_E_PPO/coordination_ring_nook_adversarial/2023-11-12_10-43-18/\"\n",
    "\n",
    "# After break\n",
    "# logdir = \"data/logs/cross_play/PPO_SMIRL/coordination_ring_noblock/2023-11-13_09-05-51/\"\n",
    "# logdir = \"data/logs/cross_play/PPO_SMIRL/coordination_ring_nook_adversarial/2023-11-13_09-05-44/\"\n",
    "# logdir = \"data/logs/cross_play/SMIRL_PPO/coordination_ring_noblock/no_anneal/2023-11-13_12-17-47/\"\n",
    "# logdir = \"data/logs/cross_play/PPO_SMIRL/coordination_ring_nook_adversarial/no_anneal/2023-11-13_12-12-50/\"\n",
    "\n",
    "# New Empowerment!\n",
    "# logdir = \"data/logs/cross_play/PPO_SMIRL_E/coordination_ring_noblock/2023-12-05_10-27-39/\"\n",
    "# logdir = \"data/logs/cross_play/PPO_SMIRL_E/coordination_ring_nook/2023-12-05_10-26-55/\"\n",
    "# logdir = \"data/logs/cross_play/PPO_SMIRL_E/coordination_ring_nook/2023-12-05_15-38-50/\"\n",
    "# logdir = \"data/logs/cross_play/PPO_SMIRL_E/coordination_ring_nook/2023-12-05_15-39-18/\"\n",
    "\n",
    "# TUBA\n",
    "# logdir = \"data/logs/cross_play/PPO_SMIRL_E/coordination_ring_nook/2023-12-13_14-35-42/\"\n",
    "# logdir = \"data/logs/cross_play/PPO_SMIRL_E/coordination_ring_nook/2023-12-13_14-35-39/\"\n",
    "# logdir = \"data/logs/cross_play/SMIRL_E_PPO/coordination_ring_nook/2023-12-13_14-41-02/\"\n",
    "# logdir = \"data/logs/cross_play/SMIRL_E_PPO/coordination_ring_nook/no_anneal/2023-12-14_11-52-27/\"\n",
    "# logdir = \"data/logs/cross_play/PPO_SMIRL_E/coordination_ring_nook/no_anneal/2023-12-15_09-42-25/\"\n",
    "# logdir = \"data/logs/cross_play/SMIRL_E_SMIRL_E/coordination_ring_nook/2023-12-16_09-51-34/\"\n",
    "# logdir = \"data/logs/cross_play/SMIRL_E_PPO/coordination_ring_nook/2023-12-18_19-41-46/\"\n",
    "# logdir = \"data/logs/cross_play/SMIRL_E_PPO/coordination_ring_nook_adversarial/2023-12-18_22-05-51/\"\n",
    "# logdir = \"data/logs/cross_play/SMIRL_E_PPO/coordination_ring_nook_adversarial/2023-12-19_07-05-51/\" # Empowerment weight = 0.05\n",
    "# logdir = \"data/logs/cross_play/SMIRL_E_PPO/coordination_ring_nook_adversarial/2023-12-19_13-03-15/\" # Empowerment weight = 1\n",
    "# logdir = \"data/logs/cross_play/PPO_SMIRL_E/coordination_ring_nook_adversarial/2023-12-19_13-03-23/\" # Empowerment weight = 0.1\n",
    "# logdir = \"data/logs/cross_play/PPO_SMIRL_E/coordination_ring_nook_adversarial/no_anneal/2023-12-20_07-42-14/\" # Empowerment weight = 1\n",
    "# logdir = \"data/logs/cross_play/PPO_SMIRL_E/coordination_ring_nook_adversarial/no_anneal/2023-12-20_07-42-11/\" # Empowerment weight = 0.1\n",
    "# logdir = \"data/logs/cross_play/PPO_SMIRL_E/coordination_ring_nook_adversarial/no_anneal/2023-12-24_08-15-18/\" # Empowerment weight = 0.01\n",
    "# logdir = \"data/logs/cross_play/SMIRL_E_PPO/coordination_ring_nook_adversarial/no_anneal/2023-12-21_06-44-50/\" # Empowerment weight = 0.001\n",
    "# Double Checks PPO/PPO\n",
    "# logdir = \"data/logs/cross_play/PPO_PPO/coordination_ring_nook/2023-12-14_11-20-48/\"\n",
    "# logdir = \"data/logs/cross_play/PPO_PPO/coordination_ring_nook/no_anneal/2023-12-14_11-52-31/\"\n",
    "\n",
    "# Sequential\n",
    "# logdir = \"data/logs/cross_play/PPO_SMIRL/coordination_ring_nook/no_anneal/2023-12-15_19-54-28/\" # Train SMIRL with PPO held fixed\n",
    "# logdir = \"data/logs/cross_play/PPO_SMIRL/coordination_ring_nook/no_anneal/2023-12-15_20-24-23/\" # Train PPO with SMIRL held fixed\n",
    "# logdir = \"data/logs/cross_play/SMIRL_PPO/coordination_ring_nook/no_anneal/2023-12-15_20-55-12/\" # Train SMIRL with PPO held fixed\n",
    "# logdir = \"data/logs/cross_play/SMIRL_PPO/coordination_ring_nook/19_no_anneal/2023-12-16_20-41-12/\"\n",
    "\n",
    "# Yell\n",
    "# logdir = \"data/logs/cross_play/PPO_SMIRL/coordination_ring_nook_adversarial/no_anneal/2023-12-22_06-47-19/\"\n",
    "# logdir = \"data/logs/cross_play/SMIRL_PPO/coordination_ring_nook_adversarial/2023-12-23_06-18-22/\"\n",
    "\n",
    "# Empowerment\n",
    "# logdir = \"data/logs/cross_play/CONTRASTIVE_E_PPO/coordination_ring_nook/2024-01-16_09-59-57/\"\n",
    "# logdir = \"data/logs/cross_play/CONTRASTIVE_E_PPO/coordination_ring_nook/2024-01-13_08-38-25/\"\n",
    "# logdir = \"data/logs/cross_play/CONTRASTIVE_E_PPO/coordination_ring_nook_adversarial/2024-01-13_08-38-37/\"\n",
    "# logdir = \"data/logs/cross_play/CONTRASTIVE_E_PPO/coordination_ring_nook/notemp/2024-01-18_09-31-42/\"\n",
    "# logdir = \"data/logs/cross_play/PPO_CONTRASTIVE_E/coordination_ring_nook/notemp_nonorm/2024-01-18_09-37-05/\"\n",
    "\n",
    "# Empowerment with Replay Buffer\n",
    "# logdir = \"data/logs/cross_play/CONTRASTIVE_E_PPO/coordination_ring_nook/notemp/2024-01-18_17-51-35/\"\n",
    "# logdir = \"data/logs/cross_play/CONTRASTIVE_E_PPO/coordination_ring_nook/notemp_nonorm/2024-01-18_17-50-31/\"\n",
    "# logdir = \"data/logs/cross_play/PPO_CONTRASTIVE_E/coordination_ring_nook/2024-01-18_17-53-25/\" # GOOD RESULT?? No, broken\n",
    "# logdir = \"data/logs/cross_play/PPO_CONTRASTIVE_E/coordination_ring_nook/2024-01-19_11-23-38/\" # GOOD RESULT!\n",
    "# logdir = \"data/logs/cross_play/PPO_CONTRASTIVE_E/coordination_ring_nook/2024-01-19_11-23-40/\" # Replication of above\n",
    "# logdir = \"data/logs/cross_play/CONTRASTIVE_E_PPO/coordination_ring_nook/2024-01-19_11-23-42/\" # Replication of above\n",
    "# logdir = \"data/logs/cross_play/CONTRASTIVE_E_PPO/coordination_ring/2024-01-19_11-23-43/\"\n",
    "\n",
    "# Empowerment with Replay Buffer Updated\n",
    "# logdir = \"data/logs/cross_play/CONTRASTIVE_E_PPO/coordination_ring_nook/2024-01-21_16-37-48/\"\n",
    "# logdir = \"data/logs/cross_play/CONTRASTIVE_E_PPO/coordination_ring_nook/2024-01-21_16-38-30/\"\n",
    "# logdir = \"data/logs/cross_play/CONTRASTIVE_E_PPO/coordination_ring_nook/2024-01-21_16-37-48/\"\n",
    "# logdir = \"data/logs/cross_play/PPO_CONTRASTIVE_E/coordination_ring_nook/test_both_using_true_reward/2024-01-21_16-41-34/\""
   ]
  },
  {
   "cell_type": "code",
   "execution_count": 713,
   "id": "1795f2ef-ee7b-4cc0-8834-4f21f087ecdf",
   "metadata": {},
   "outputs": [],
   "source": [
    "SEQUENTIAL = False"
   ]
  },
  {
   "cell_type": "code",
   "execution_count": 714,
   "id": "1d3d9ca9-2099-40f3-bd12-ea1ac1e10a74",
   "metadata": {},
   "outputs": [],
   "source": [
    "SUFFICIENT_STATISTIC_DIM = 53"
   ]
  },
  {
   "cell_type": "code",
   "execution_count": 715,
   "id": "3b4c35eb-165e-4755-9b2b-6995b540f63a",
   "metadata": {},
   "outputs": [],
   "source": [
    "def get_all_checkpoints(logdir):\n",
    "    # List all checkpoint ids\n",
    "    all_checkpoints = []\n",
    "    files = os.listdir(logdir)\n",
    "    for file in files:\n",
    "        if re.match(\"checkpoint_*\", file):\n",
    "            \n",
    "            all_checkpoints.append(int(file[len(\"checkpoint_\"):]))\n",
    "    all_checkpoints = sorted(all_checkpoints)\n",
    "\n",
    "    return all_checkpoints"
   ]
  },
  {
   "cell_type": "code",
   "execution_count": 716,
   "id": "842ec449-804c-472a-a0aa-b25220efa050",
   "metadata": {},
   "outputs": [],
   "source": [
    "def get_data(logdir):\n",
    "    file = open(logdir + \"result.json\", \"r\")\n",
    "    data = []\n",
    "    for line in file:\n",
    "        data.append(json.loads(line))\n",
    "\n",
    "    file.close()\n",
    "\n",
    "    return [data]\n",
    "         \n",
    "def get_sequential_data(sequential_checkpoints):\n",
    "    data = []\n",
    "    for path in sequential_checkpoints:\n",
    "        result_path = re.match(\".*\\/(?=checkpoint_)\", path).group(0)        \n",
    "        data.extend(get_data(result_path))\n",
    "\n",
    "    return data"
   ]
  },
  {
   "cell_type": "code",
   "execution_count": 717,
   "id": "ce00f967-1340-4def-a136-576340368c65",
   "metadata": {},
   "outputs": [],
   "source": [
    "all_checkpoints = get_all_checkpoints(logdir)\n",
    "\n",
    "if SEQUENTIAL:\n",
    "    sequential_checkpoints = np.load(f\"{logdir}checkpoint_{all_checkpoints[-1]:06}/checkpoint-{all_checkpoints[-1]}_sequential.npy\")\n",
    "    data = get_sequential_data(sequential_checkpoints)\n",
    "else:\n",
    "    data = get_data(logdir)"
   ]
  },
  {
   "cell_type": "code",
   "execution_count": 718,
   "id": "abf6606d-b2db-4a64-925c-76322f55e1f5",
   "metadata": {},
   "outputs": [],
   "source": [
    "def get_smirl_reward_full(data):\n",
    "    smirl_reward_full = []\n",
    "\n",
    "    for d in data:\n",
    "        smirl_reward_full.append([])\n",
    "        for feat_index in range(SUFFICIENT_STATISTIC_DIM):\n",
    "            cum_reward = []\n",
    "            for i in range(len(d)):\n",
    "                cum_reward.append(d[i][\"custom_metrics\"][f\"smirl_{feat_index}_mean\"])\n",
    "            smirl_reward_full[-1].append(cum_reward)\n",
    "    \n",
    "    smirl_reward_full = np.array(smirl_reward_full)\n",
    "    smirl_reward = np.mean(smirl_reward_full, axis=1)\n",
    "    \n",
    "    return smirl_reward"
   ]
  },
  {
   "cell_type": "code",
   "execution_count": 719,
   "id": "7915dfb1-7ba7-4762-aa64-dccad414f4d6",
   "metadata": {},
   "outputs": [
    {
     "data": {
      "text/plain": [
       "-198.68452548980713"
      ]
     },
     "execution_count": 719,
     "metadata": {},
     "output_type": "execute_result"
    }
   ],
   "source": [
    "data[0][1][\"custom_metrics\"][\"contrastive_empowerment_rewards_mean\"]"
   ]
  },
  {
   "cell_type": "code",
   "execution_count": 720,
   "id": "752e781a-21cf-42d1-9881-eac98be8c933",
   "metadata": {},
   "outputs": [],
   "source": [
    "smirl_reward = get_smirl_reward_full(data)"
   ]
  },
  {
   "cell_type": "code",
   "execution_count": 721,
   "id": "f5ef63b8-bb00-437c-baff-883cb2548197",
   "metadata": {},
   "outputs": [],
   "source": [
    "def get_reward_means(data, smirl_reward_full):\n",
    "    policies = list(data[0][0][\"policy_reward_mean\"].keys())\n",
    "    \n",
    "    reward_means = []\n",
    "    for d, smirl_reward in zip(data, smirl_reward_full):\n",
    "        reward_means.append({})\n",
    "        for policy in policies:\n",
    "            print(policy)\n",
    "            if \"smirl_e\" in policy:\n",
    "                empowerment_scalar = (d[0][\"policy_reward_mean\"][policy]-smirl_reward[0])/d[0][\"custom_metrics\"][\"empowerment_reward_mean\"]\n",
    "                print(\"Empowerment Scalar\", empowerment_scalar)\n",
    "\n",
    "                reward_means[-1][policy] = {\"total\": [ep[\"policy_reward_mean\"][policy] for ep in d],\n",
    "                                        \"smirl\": smirl_reward,\n",
    "                                        \"empowerment\": [empowerment_scalar*ep[\"custom_metrics\"][\"empowerment_reward_mean\"] for ep in d]}\n",
    "            elif \"smirl\" in policy:\n",
    "                reward_means[-1][policy] = {\"total\": [ep[\"policy_reward_mean\"][policy] for ep in d],\n",
    "                                        \"smirl\": smirl_reward}\n",
    "            elif \"contrastive_e\" in policy:\n",
    "                reward_means[-1][policy] = {\"dense\": [ep[\"custom_metrics\"][\"contrastive_empowerment_rewards_mean\"] for ep in d[1:]]}\n",
    "            elif \"ppo\" in policy and \"agent_1_dense_mean\" in d[0][\"custom_metrics\"]:\n",
    "                reward_means[-1][policy] = {\"dense\": [ep[\"custom_metrics\"][\"agent_1_dense_mean\"]  for ep in d],\n",
    "                                        \"sparse\": [ep[\"custom_metrics\"][\"agent_1_sparse_mean\"] for ep in d]}\n",
    "            else:\n",
    "                reward_means[-1][policy] = {\"total\": [ep[\"policy_reward_mean\"][policy] for ep in d]}\n",
    "    return reward_means"
   ]
  },
  {
   "cell_type": "code",
   "execution_count": 722,
   "id": "ce316864-b9b6-417c-985b-056f2d511f31",
   "metadata": {},
   "outputs": [
    {
     "name": "stdout",
     "output_type": "stream",
     "text": [
      "ppo_0\n",
      "contrastive_e_0\n"
     ]
    }
   ],
   "source": [
    "reward_means = get_reward_means(data, smirl_reward)"
   ]
  },
  {
   "cell_type": "code",
   "execution_count": 723,
   "id": "7263e1fe-d8b9-4ced-a91d-c62fc548dad2",
   "metadata": {},
   "outputs": [],
   "source": [
    "def plot_reward_means(reward_means):\n",
    "    for policy in reward_means.keys():\n",
    "        if type(reward_means[policy]) == dict:\n",
    "            for reward_type, reward in reward_means[policy].items():\n",
    "                plt.plot(reward, label=reward_type)\n",
    "            plt.title(f\"{policy} reward mean\")\n",
    "            plt.xlabel(\"Epoch\")\n",
    "            plt.ylabel(\"Reward Mean\")\n",
    "            plt.yscale(\"symlog\")\n",
    "            plt.legend()\n",
    "            plt.show()\n",
    "        else:\n",
    "            plt.plot(reward_means[policy])\n",
    "            plt.title(f\"{policy} reward mean\")\n",
    "            plt.xlabel(\"Epoch\")\n",
    "            plt.ylabel(\"Reward Mean\")\n",
    "            plt.show()"
   ]
  },
  {
   "cell_type": "code",
   "execution_count": 724,
   "id": "c1228045-5a59-46b7-8c4d-6bfcd8b32ad0",
   "metadata": {},
   "outputs": [],
   "source": [
    "def aggregate_reward_means(reward_means):\n",
    "    assert len(reward_means) > 0\n",
    "    \n",
    "    aggregated = {k: {f: [] for f in reward_means[0][k].keys()} for k in reward_means[0].keys()}\n",
    "\n",
    "    for rm in reward_means:\n",
    "        for policy in rm.keys():\n",
    "            for metric in rm[policy].keys():\n",
    "                aggregated[policy][metric].extend(rm[policy][metric])\n",
    "    return aggregated"
   ]
  },
  {
   "cell_type": "code",
   "execution_count": 725,
   "id": "b5ffb5a7-1f94-4c34-87a4-40d3c303156d",
   "metadata": {},
   "outputs": [
    {
     "data": {
      "text/plain": [
       "[<matplotlib.lines.Line2D at 0x7fd185fb2ee0>]"
      ]
     },
     "execution_count": 725,
     "metadata": {},
     "output_type": "execute_result"
    },
    {
     "data": {
      "image/png": "[encoded data removed]",
      "text/plain": [
       "<Figure size 640x480 with 1 Axes>"
      ]
     },
     "metadata": {},
     "output_type": "display_data"
    }
   ],
   "source": [
    "plt.plot(reward_means[0][\"contrastive_e_0\"][\"dense\"][500:])"
   ]
  },
  {
   "cell_type": "code",
   "execution_count": 726,
   "id": "fdf3a806-8abc-4099-8f1d-80ace9db5b62",
   "metadata": {},
   "outputs": [],
   "source": [
    "aggregated_rms = aggregate_reward_means(reward_means)"
   ]
  },
  {
   "cell_type": "code",
   "execution_count": 727,
   "id": "3443c939-5312-4e2a-978e-f75538759f38",
   "metadata": {},
   "outputs": [
    {
     "data": {
      "image/png": "[encoded data removed]",
      "text/plain": [
       "<Figure size 640x480 with 1 Axes>"
      ]
     },
     "metadata": {},
     "output_type": "display_data"
    },
    {
     "data": {
      "image/png": "[encoded data removed]",
      "text/plain": [
       "<Figure size 640x480 with 1 Axes>"
      ]
     },
     "metadata": {},
     "output_type": "display_data"
    }
   ],
   "source": [
    "plot_reward_means(aggregated_rms)"
   ]
  },
  {
   "cell_type": "code",
   "execution_count": 728,
   "id": "02c6eeb1-c095-45ab-9bf1-10ef9b7f9bcc",
   "metadata": {},
   "outputs": [
    {
     "data": {
      "text/plain": [
       "Text(0.5, 1.0, 'Empowerment Classifier Loss')"
      ]
     },
     "execution_count": 728,
     "metadata": {},
     "output_type": "execute_result"
    },
    {
     "data": {
      "image/png": "[encoded data removed]",
      "text/plain": [
       "<Figure size 640x480 with 1 Axes>"
      ]
     },
     "metadata": {},
     "output_type": "display_data"
    }
   ],
   "source": [
    "plt.plot([data[0][i][\"custom_metrics\"][\"empowerment_classifier_loss_mean\"] for i in range(len(data[0]))])\n",
    "plt.title(\"Empowerment Classifier Loss\")"
   ]
  },
  {
   "cell_type": "code",
   "execution_count": 706,
   "id": "78ae8a7b-cb24-470a-8c1d-e5bb3199e950",
   "metadata": {},
   "outputs": [],
   "source": [
    "# for policy in policies:\n",
    "#     if type(reward_means[policy]) == dict:\n",
    "#         for reward_type, reward in reward_means[policy].items():\n",
    "#             plt.plot(reward, label=reward_type)\n",
    "#         plt.title(f\"{policy} reward mean\")\n",
    "#         plt.xlabel(\"Epoch\")\n",
    "#         plt.ylabel(\"Reward Mean\")\n",
    "#         plt.legend()\n",
    "#         plt.show()\n",
    "#     else:\n",
    "#         plt.plot(reward_means[policy])\n",
    "#         plt.title(f\"{policy} reward mean\")\n",
    "#         plt.xlabel(\"Epoch\")\n",
    "#         plt.ylabel(\"Reward Mean\")\n",
    "#         plt.show()"
   ]
  },
  {
   "cell_type": "code",
   "execution_count": 707,
   "id": "c62e5896-f7a2-4eb1-b2af-34c4075abfb4",
   "metadata": {},
   "outputs": [],
   "source": [
    "# cmap = plt.cm.get_cmap(\"rainbow\", 26)\n",
    "# colors = []\n",
    "# for i in range(26):\n",
    "#     for k in range(ONEHOT_OBS_DIMS[i]):\n",
    "#         colors.append(cmap(i))"
   ]
  },
  {
   "cell_type": "code",
   "execution_count": 510,
   "id": "c637404b-5593-48c0-9465-a09c7bcaa1c1",
   "metadata": {},
   "outputs": [],
   "source": [
    "# ax = plt.subplot(111)\n",
    "\n",
    "# ax.bar(x=np.arange(len(smirl_reward)), height=smirl_reward, color=colors)\n",
    "# plt.title(\"SMIRL Reward Deconstructed\")\n",
    "# ax.set_xlabel(\"Feature Index\")\n",
    "# ax.set_ylabel(\"Reward\")\n",
    "\n",
    "# box = ax.get_position()\n",
    "# ax.set_position([box.x0, box.y0, box.width * 1.5, box.height])\n",
    "\n",
    "# # Custom legend\n",
    "# handles = [mpatches.Patch(color=cmap(i), label=OBS[i]) for i in range(26)]\n",
    "# plt.legend(handles=handles, ncol=2, loc='center left', bbox_to_anchor=(1, 0.5))"
   ]
  },
  {
   "cell_type": "code",
   "execution_count": 511,
   "id": "2f4dcfaa-92d7-4361-8d8e-93aed7f24c95",
   "metadata": {},
   "outputs": [],
   "source": [
    "# fig, ax = plt.subplots()\n",
    "# barcollection = ax.bar(x=np.arange(SUFFICIENT_STATISTIC_DIM), height=smirl_reward_full[:, 0], color=colors)\n",
    "# plt.title(\"SMIRL Reward Deconstructed\")\n",
    "# ax.set_xlabel(\"Feature Index\")\n",
    "# ax.set_ylabel(\"Reward\")\n",
    "\n",
    "# box = ax.get_position()\n",
    "# ax.set_position([box.x0, box.y0, box.width * 1, box.height])\n",
    "\n",
    "# # Custom legend\n",
    "# handles = [mpatches.Patch(color=cmap(i), label=OBS[i]) for i in range(26)]\n",
    "# # plt.legend(handles=handles, ncol=2, loc='center right', bbox_to_anchor=(1, 0.5))\n",
    "\n",
    "# n = smirl_reward_full.shape[1]\n",
    "\n",
    "# def animate(i):\n",
    "#     y = smirl_reward_full[:, i]\n",
    "#     for i, b in enumerate(barcollection):\n",
    "#         b.set_height(y[i])\n",
    "        \n",
    "# anim = animation.FuncAnimation(fig, animate, repeat=False, blit=False, frames=np.arange(0, n, n//20))\n",
    "# HTML(anim.to_jshtml())"
   ]
  },
  {
   "cell_type": "code",
   "execution_count": 512,
   "id": "65e5427d-3da9-4b7b-bc22-dc8e3dc9143a",
   "metadata": {},
   "outputs": [
    {
     "data": {
      "text/plain": [
       "[1, 1, 1, 1, 1, 1, 1, 1, 1, 1, 1, 1, 1, 1, 1, 1, 3, 3, 3, 3, 20, 1, 1, 1, 1, 1]"
      ]
     },
     "execution_count": 512,
     "metadata": {},
     "output_type": "execute_result"
    }
   ],
   "source": [
    "ONEHOT_OBS_DIMS"
   ]
  },
  {
   "cell_type": "code",
   "execution_count": 513,
   "id": "ef0c318c-4f94-4d80-9700-3faa6e7bbb75",
   "metadata": {},
   "outputs": [],
   "source": [
    "# contrib_by_feature = []\n",
    "# for i in range(26):\n",
    "#     contrib_by_feature.append(0)\n",
    "#     for k in range(ONEHOT_OBS_DIMS[i]):\n",
    "#         contrib_by_feature[-1] += smirl_reward[i + k]/SUFFICIENT_STATISTIC_DIM\n",
    "\n",
    "# assert len(contrib_by_feature) == 26"
   ]
  },
  {
   "cell_type": "code",
   "execution_count": 514,
   "id": "e765c8e9-69c1-4550-ab00-b78480e066db",
   "metadata": {},
   "outputs": [],
   "source": [
    "# def get_contrib_by_feature(i):\n",
    "#     # Gets contrib_by_feature for epoch i\n",
    "#     rewards = smirl_reward_full[:, i]\n",
    "    \n",
    "#     contrib_by_feature = []\n",
    "#     for i in range(26):\n",
    "#         contrib_by_feature.append(0)\n",
    "#         for k in range(ONEHOT_OBS_DIMS[i]):\n",
    "#             contrib_by_feature[-1] += rewards[i + k]/53\n",
    "    \n",
    "#     assert len(contrib_by_feature) == 26\n",
    "#     return contrib_by_feature"
   ]
  },
  {
   "cell_type": "code",
   "execution_count": 515,
   "id": "4a7aabdd-ed77-487a-b601-1b4c09f80c4f",
   "metadata": {},
   "outputs": [],
   "source": [
    "# ax = plt.subplot(111)\n",
    "\n",
    "# ax.bar(x=np.arange(26), height=contrib_by_feature, color=[cmap(i) for i in range(26)])\n",
    "# plt.title(\"SMIRL Reward Contributions by Feature\")\n",
    "# ax.set_xlabel(\"Feature Index\")\n",
    "# ax.set_ylabel(\"Reward\")\n",
    "\n",
    "# box = ax.get_position()\n",
    "# ax.set_position([box.x0, box.y0, box.width * 1.5, box.height])\n",
    "\n",
    "# # Custom legend\n",
    "# handles = [mpatches.Patch(color=cmap(i), label=OBS[i]) for i in range(26)]\n",
    "# plt.legend(handles=handles, ncol=2, loc='center left', bbox_to_anchor=(1, 0.5))"
   ]
  },
  {
   "cell_type": "code",
   "execution_count": 516,
   "id": "e362420b-69c7-40fe-bc03-82d41a4ccd4d",
   "metadata": {},
   "outputs": [],
   "source": [
    "# fig, ax = plt.subplots()\n",
    "# barcollection = ax.bar(x=np.arange(26), height=contrib_by_feature, color=[cmap(i) for i in range(26)])\n",
    "# plt.title(\"SMIRL Reward Contributions by Feature\")\n",
    "# ax.set_xlabel(\"Feature Index\")\n",
    "# ax.set_ylabel(\"Reward\")\n",
    "\n",
    "# box = ax.get_position()\n",
    "# ax.set_position([box.x0, box.y0, box.width * 1, box.height])\n",
    "\n",
    "# # Custom legend\n",
    "# handles = [mpatches.Patch(color=cmap(i), label=OBS[i]) for i in range(26)]\n",
    "# # plt.legend(handles=handles, ncol=2, loc='center right', bbox_to_anchor=(1, 0.5))\n",
    "\n",
    "# n = smirl_reward_full.shape[1]\n",
    "\n",
    "# def animate(i):\n",
    "#     y = get_contrib_by_feature(i)\n",
    "#     for i, b in enumerate(barcollection):\n",
    "#         b.set_height(y[i])\n",
    "        \n",
    "# anim = animation.FuncAnimation(fig, animate, repeat=False, blit=False, frames=np.arange(0, n, n//20))\n",
    "# HTML(anim.to_jshtml())"
   ]
  },
  {
   "cell_type": "code",
   "execution_count": 517,
   "id": "a8359e55-289e-4c1b-b796-e78e90574d25",
   "metadata": {},
   "outputs": [],
   "source": [
    "# for policy in policies:\n",
    "#     if type(reward_means[policy]) == dict:\n",
    "#         for reward_type, reward in reward_means[policy].items():\n",
    "#             plt.plot(reward, label=reward_type)\n",
    "#         plt.title(f\"{policy} reward mean\")\n",
    "#         plt.xlabel(\"Epoch\")\n",
    "#         plt.ylabel(\"Reward Mean\")\n",
    "#         plt.legend()\n",
    "#         plt.show()\n",
    "#     else:\n",
    "#         plt.plot(reward_means[policy])\n",
    "#         plt.title(f\"{policy} reward mean\")\n",
    "#         plt.xlabel(\"Epoch\")\n",
    "#         plt.ylabel(\"Reward Mean\")\n",
    "#         plt.show()"
   ]
  },
  {
   "cell_type": "code",
   "execution_count": 484,
   "id": "75b653a8-2fa2-4a59-917f-04b4de897bc0",
   "metadata": {},
   "outputs": [],
   "source": [
    "# empowerment_scalar"
   ]
  },
  {
   "cell_type": "code",
   "execution_count": 485,
   "id": "243ac8ab-58b1-4d37-8b37-bd094f6340a6",
   "metadata": {},
   "outputs": [],
   "source": [
    "# probability_of_correct_detection = []\n",
    "# beta = 1/100\n",
    "\n",
    "# for i in range(len(data)):\n",
    "#     batch_probs = []\n",
    "\n",
    "#     cm = data[i][\"custom_metrics\"]\n",
    "#     for j in range(128):\n",
    "#         prob = np.exp(cm[f\"tc_{j}_mean\"]*beta)/(np.exp(cm[f\"nc_{j}_mean\"]*beta) + np.exp(cm[f\"tc_{j}_mean\"]*beta))\n",
    "#         batch_probs.append(prob)\n",
    "        \n",
    "#     probability_of_correct_detection.append(np.mean(batch_probs))\n",
    "#     data[-1][\"custom_metrics\"]"
   ]
  },
  {
   "cell_type": "code",
   "execution_count": 486,
   "id": "20e8edaa-021d-4b33-b877-5607f7921aae",
   "metadata": {},
   "outputs": [],
   "source": [
    "# plt.plot(empowerment_classifier_loss)\n",
    "# plt.ylabel(\"Loss\")\n",
    "# plt.xlabel(\"Epoch\")\n",
    "# plt.title(\"Empowerment Classifier Loss\")"
   ]
  },
  {
   "cell_type": "code",
   "execution_count": 487,
   "id": "530242cf-2cd5-411d-9bd8-1d8461c1b34b",
   "metadata": {},
   "outputs": [],
   "source": [
    "# plt.plot(probability_of_correct_detection)\n",
    "# plt.title(\"Empowerment Probability of Correct Classification\")\n",
    "# plt.ylabel(\"Probability\")\n",
    "# plt.xlabel(\"Epoch\")"
   ]
  },
  {
   "cell_type": "code",
   "execution_count": 488,
   "id": "3fe7c3ac-96fa-4b77-94c5-0631f3bd1662",
   "metadata": {},
   "outputs": [
    {
     "ename": "NameError",
     "evalue": "name 'sequential_checkpoints' is not defined",
     "output_type": "error",
     "traceback": [
      "\u001b[0;31m---------------------------------------------------------------------------\u001b[0m",
      "\u001b[0;31mNameError\u001b[0m                                 Traceback (most recent call last)",
      "Cell \u001b[0;32mIn[488], line 1\u001b[0m\n\u001b[0;32m----> 1\u001b[0m \u001b[43msequential_checkpoints\u001b[49m\n",
      "\u001b[0;31mNameError\u001b[0m: name 'sequential_checkpoints' is not defined"
     ]
    }
   ],
   "source": [
    "sequential_checkpoints"
   ]
  },
  {
   "cell_type": "code",
   "execution_count": 729,
   "id": "4cdba45e-e852-4548-afcc-d4e5c4b0cced",
   "metadata": {},
   "outputs": [],
   "source": [
    "# List all video checkpoints\n",
    "video_checkpoints = []\n",
    "\n",
    "for id in all_checkpoints:\n",
    "    files = os.listdir(logdir + f\"checkpoint_{id:06}\")\n",
    "    has_video = False\n",
    "    for file in files:\n",
    "        if re.match(\".*\\.mp4\", file):\n",
    "            has_video = True\n",
    "            break\n",
    "    if has_video:\n",
    "        video_checkpoints.append(id)"
   ]
  },
  {
   "cell_type": "code",
   "execution_count": 730,
   "id": "703b6c76-66b9-465c-9cae-0c3b530ba266",
   "metadata": {},
   "outputs": [
    {
     "data": {
      "text/plain": [
       "[3000]"
      ]
     },
     "execution_count": 730,
     "metadata": {},
     "output_type": "execute_result"
    }
   ],
   "source": [
    "video_checkpoints"
   ]
  },
  {
   "cell_type": "code",
   "execution_count": 585,
   "id": "3ec46dfc-fc66-4152-87a8-3d81c14853b1",
   "metadata": {},
   "outputs": [
    {
     "ename": "NameError",
     "evalue": "name 'sequential_checkpoints' is not defined",
     "output_type": "error",
     "traceback": [
      "\u001b[0;31m---------------------------------------------------------------------------\u001b[0m",
      "\u001b[0;31mNameError\u001b[0m                                 Traceback (most recent call last)",
      "Cell \u001b[0;32mIn[585], line 1\u001b[0m\n\u001b[0;32m----> 1\u001b[0m checkpoint_path \u001b[38;5;241m=\u001b[39m \u001b[43msequential_checkpoints\u001b[49m[\u001b[38;5;241m-\u001b[39m\u001b[38;5;241m3\u001b[39m]\n\u001b[1;32m      2\u001b[0m Video(url\u001b[38;5;241m=\u001b[39mcheckpoint_path \u001b[38;5;241m+\u001b[39m \u001b[38;5;124m\"\u001b[39m\u001b[38;5;124m_0.mp4\u001b[39m\u001b[38;5;124m\"\u001b[39m)\n",
      "\u001b[0;31mNameError\u001b[0m: name 'sequential_checkpoints' is not defined"
     ]
    }
   ],
   "source": [
    "checkpoint_path = sequential_checkpoints[-3]\n",
    "Video(url=checkpoint_path + \"_0.mp4\")"
   ]
  },
  {
   "cell_type": "code",
   "execution_count": 731,
   "id": "12e7f976-071a-4124-b369-ad1006d63d03",
   "metadata": {},
   "outputs": [
    {
     "data": {
      "text/html": [
       "<video src=\"data/logs/cross_play/PPO_CONTRASTIVE_E/coordination_ring_nook/test_both_using_true_reward/2024-01-21_16-41-34/checkpoint_003000/checkpoint-3000_1.mp4\" controls  >\n",
       "      Your browser does not support the <code>video</code> element.\n",
       "    </video>"
      ],
      "text/plain": [
       "<IPython.core.display.Video object>"
      ]
     },
     "execution_count": 731,
     "metadata": {},
     "output_type": "execute_result"
    }
   ],
   "source": [
    "checkpoint_id = video_checkpoints[-1]\n",
    "checkpoint_path = f\"checkpoint_{checkpoint_id:06}/checkpoint-{checkpoint_id}\"\n",
    "Video(url=logdir + checkpoint_path + \"_1.mp4\")"
   ]
  },
  {
   "cell_type": "code",
   "execution_count": 39,
   "id": "a741a45e-c5f6-4516-9a6e-0b08f6c97355",
   "metadata": {},
   "outputs": [
    {
     "data": {
      "text/plain": [
       "'checkpoint_003000/checkpoint-3000'"
      ]
     },
     "execution_count": 39,
     "metadata": {},
     "output_type": "execute_result"
    }
   ],
   "source": [
    "checkpoint_path"
   ]
  },
  {
   "cell_type": "code",
   "execution_count": 356,
   "id": "24ac6e4e-4a07-49f2-8cf3-e05589319268",
   "metadata": {},
   "outputs": [
    {
     "ename": "NameError",
     "evalue": "name 'policies' is not defined",
     "output_type": "error",
     "traceback": [
      "\u001b[0;31m---------------------------------------------------------------------------\u001b[0m",
      "\u001b[0;31mNameError\u001b[0m                                 Traceback (most recent call last)",
      "Cell \u001b[0;32mIn[356], line 1\u001b[0m\n\u001b[0;32m----> 1\u001b[0m \u001b[38;5;28;01mfor\u001b[39;00m policy \u001b[38;5;129;01min\u001b[39;00m \u001b[43mpolicies\u001b[49m:\n\u001b[1;32m      2\u001b[0m     im \u001b[38;5;241m=\u001b[39m skio\u001b[38;5;241m.\u001b[39mimread(logdir \u001b[38;5;241m+\u001b[39m checkpoint_path \u001b[38;5;241m+\u001b[39m \u001b[38;5;124mf\u001b[39m\u001b[38;5;124m\"\u001b[39m\u001b[38;5;124m_policy_\u001b[39m\u001b[38;5;132;01m{\u001b[39;00mpolicy\u001b[38;5;132;01m}\u001b[39;00m\u001b[38;5;124m_action_probs.png\u001b[39m\u001b[38;5;124m\"\u001b[39m)\n\u001b[1;32m      3\u001b[0m     skio\u001b[38;5;241m.\u001b[39mimshow(im)\n",
      "\u001b[0;31mNameError\u001b[0m: name 'policies' is not defined"
     ]
    }
   ],
   "source": [
    "for policy in policies:\n",
    "    im = skio.imread(logdir + checkpoint_path + f\"_policy_{policy}_action_probs.png\")\n",
    "    skio.imshow(im)\n",
    "    plt.show()"
   ]
  },
  {
   "cell_type": "code",
   "execution_count": null,
   "id": "7fdaac69-d5f8-4c7a-9060-072101ad5d8c",
   "metadata": {},
   "outputs": [],
   "source": []
  }
 ],
 "metadata": {
  "kernelspec": {
   "display_name": "Python 3 (ipykernel)",
   "language": "python",
   "name": "python3"
  },
  "language_info": {
   "codemirror_mode": {
    "name": "ipython",
    "version": 3
   },
   "file_extension": ".py",
   "mimetype": "text/x-python",
   "name": "python",
   "nbconvert_exporter": "python",
   "pygments_lexer": "ipython3",
   "version": "3.9.0"
  }
 },
 "nbformat": 4,
 "nbformat_minor": 5
}
